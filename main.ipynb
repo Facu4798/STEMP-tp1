{
 "cells": [
  {
   "cell_type": "code",
   "execution_count": 1,
   "id": "6ee4853d",
   "metadata": {},
   "outputs": [],
   "source": [
    "from get_data_yahoo import obtener_datos_yahoo\n"
   ]
  },
  {
   "cell_type": "code",
   "execution_count": 3,
   "id": "beb95937",
   "metadata": {},
   "outputs": [
    {
     "name": "stderr",
     "output_type": "stream",
     "text": [
      "[*********************100%***********************]  1 of 1 completed"
     ]
    },
    {
     "name": "stdout",
     "output_type": "stream",
     "text": [
      "Error downloading data: No module named 'ETL'\n"
     ]
    },
    {
     "name": "stderr",
     "output_type": "stream",
     "text": [
      "\n"
     ]
    }
   ],
   "source": [
    "datos = obtener_datos_yahoo(None,None,ticker=\"TSLA\")"
   ]
  }
 ],
 "metadata": {
  "kernelspec": {
   "display_name": "Python 3",
   "language": "python",
   "name": "python3"
  },
  "language_info": {
   "codemirror_mode": {
    "name": "ipython",
    "version": 3
   },
   "file_extension": ".py",
   "mimetype": "text/x-python",
   "name": "python",
   "nbconvert_exporter": "python",
   "pygments_lexer": "ipython3",
   "version": "3.12.1"
  }
 },
 "nbformat": 4,
 "nbformat_minor": 5
}
